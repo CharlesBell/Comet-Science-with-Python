{
 "cells": [
  {
   "cell_type": "markdown",
   "metadata": {},
   "source": [
    "# Comet Nucleus Radius Calculator \n"
   ]
  },
  {
   "cell_type": "markdown",
   "metadata": {},
   "source": [
    "<p> Radius of a comet nucleus in meters with absolute magnitude H, magnitude of Sun msun, and albedo p:</p>\n",
    "\n",
    "\n",
    "$$\n",
    "radius = 1.496 x 10^{11}  \\frac {10^ { 0.2 (Msun - H)}}{albedo^{0.5}}\n",
    "$$\n",
    "\n",
    "\n",
    "<i>Reference:</i>\n",
    "\n",
    "\n",
    "https://www.lpi.usra.edu/books/CometsII/7022.pdf\n",
    "         \n",
    "<pre>\n",
    "Comets II, The Sizes, Shapes, Albedos, and Colors of Cometary Nuclei\n",
    "Philippe L. Lamy, Laboratoire d’Astronomie Spatiale du Centre National de la Recherche Scientifique\n",
    "Imre Toth, Konkoly Observatory</li>\n",
    "Yanga R. Fernández, Institute for Astronomy of the University of Hawai‘i\n",
    "Harold A. Weaver, Applied Physics Laboratory of The Johns Hopkins University\n",
    "   <pre>\n",
    "Example:\n",
    "H = 12\n",
    "msun = –27.09\n",
    "albedo = 0.04\n",
    "rn = getRadius(h, msun, p) = 11373.695522399032 m\n",
    "\n",
    "\n",
    "Magnitude of the Sun (V = –26.75, R = –27.09) must be in the same spectral band as H\n",
    "</pre>\n"
   ]
  },
  {
   "cell_type": "code",
   "execution_count": 1,
   "metadata": {},
   "outputs": [],
   "source": [
    "import math\n",
    "from astropy import units as u \n",
    "\n",
    "\"\"\"\n",
    "H : float\n",
    "msun : float\n",
    "albedo : float\n",
    "\n",
    "Returns\n",
    "-------\n",
    "radius : float in meters\n",
    "\n",
    "\"\"\"\n",
    "def getRadius(H, msun, albedo):\n",
    "    radius_meters = 1.496E+11 * math.pow(10, 0.2 * (msun-H)) / math.sqrt(albedo)\n",
    "    return radius_meters*u.meter\n",
    "\n"
   ]
  },
  {
   "cell_type": "code",
   "execution_count": 2,
   "metadata": {},
   "outputs": [
    {
     "name": "stdout",
     "output_type": "stream",
     "text": [
      "absoluteMagnitude H =  22.5\n",
      "magnitude of the sun msun =  -26.75\n",
      "albedo =  0.04\n",
      "radius rn =  105.65780833778166 m\n"
     ]
    },
    {
     "data": {
      "text/latex": [
       "$105.65781 \\; \\mathrm{m}$"
      ],
      "text/plain": [
       "<Quantity 105.65780834 m>"
      ]
     },
     "execution_count": 2,
     "metadata": {},
     "output_type": "execute_result"
    }
   ],
   "source": [
    "H = 22.5\n",
    "msun = -26.75 #V Magnitude of the Sun = –26.75\n",
    "albedo = 0.04 # frequently used value of comet nuclei albedo such as for 67P\n",
    "radius= getRadius(H, msun, albedo)\n",
    "print('absoluteMagnitude H = ', H)\n",
    "print('magnitude of the sun msun = ', msun)\n",
    "print('albedo = ', albedo)\n",
    "print('radius rn = ', radius )\n",
    "radius"
   ]
  },
  {
   "cell_type": "code",
   "execution_count": 3,
   "metadata": {},
   "outputs": [
    {
     "data": {
      "text/latex": [
       "$11373.696 \\; \\mathrm{m}$"
      ],
      "text/plain": [
       "<Quantity 11373.6955224 m>"
      ]
     },
     "execution_count": 3,
     "metadata": {},
     "output_type": "execute_result"
    }
   ],
   "source": [
    "radius= getRadius(12, -27.09, 0.04)\n",
    "radius"
   ]
  },
  {
   "cell_type": "code",
   "execution_count": null,
   "metadata": {},
   "outputs": [],
   "source": []
  }
 ],
 "metadata": {
  "kernelspec": {
   "display_name": "Python 3 (ipykernel)",
   "language": "python",
   "name": "python3"
  },
  "language_info": {
   "codemirror_mode": {
    "name": "ipython",
    "version": 3
   },
   "file_extension": ".py",
   "mimetype": "text/x-python",
   "name": "python",
   "nbconvert_exporter": "python",
   "pygments_lexer": "ipython3",
   "version": "3.9.7"
  }
 },
 "nbformat": 4,
 "nbformat_minor": 2
}
